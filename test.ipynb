{
 "cells": [
  {
   "cell_type": "code",
   "execution_count": 4,
   "id": "0d0d6d2f",
   "metadata": {},
   "outputs": [],
   "source": [
    "import json\n",
    "from utils import generate_text, AIRequestError\n",
    "\n",
    "def refine_scene(scene_json_path: str, scene_id: int, api_key: str,\n",
    "                 model: str = \"gemini-2.5-flash\", out_path: str = \"refined_prompt.txt\") -> str:\n",
    "    \"\"\"\n",
    "    Refine one scene in the script to improve SSML voiceover and visual description.\n",
    "    - Input: path to script.json and scene_id to refine\n",
    "    - Output: refined Veo 3 prompt (saved to a text file)\n",
    "    \"\"\"\n",
    "\n",
    "    # --- Load script ---\n",
    "    with open(scene_json_path, \"r\", encoding=\"utf-8\") as f:\n",
    "        scenes = json.load(f)\n",
    "\n",
    "    scene = next((s for s in scenes if s[\"scene_id\"] == scene_id), None)\n",
    "    if not scene:\n",
    "        raise ValueError(f\"Scene {scene_id} not found in {scene_json_path}\")\n",
    "\n",
    "    ssml = scene[\"ssml\"]\n",
    "    visual_desc = scene[\"visual_desc\"]\n",
    "    transition_hint = scene.get(\"transition_hint\", \"\")\n",
    "\n",
    "    # --- Prompt để refine ---\n",
    "    refine_prompt = f\"\"\"\n",
    "You are a professional Vietnamese TV news editor and an English-language visual director.\n",
    "\n",
    "Your task:\n",
    "1. **Enhance the SSML** to sound more natural, emotional, and professional for a Vietnamese national news anchor.\n",
    "   - Add appropriate <break>, <emphasis>, <prosody> tags.\n",
    "   - Keep the meaning unchanged, but improve rhythm and stress.\n",
    "   - Output must remain valid SSML in Vietnamese (<speak>...</speak>).\n",
    "\n",
    "2. **Translate and expand the visual description** into detailed English for Veo 3.\n",
    "   - Describe camera movement, lighting, mood, composition, and colors.\n",
    "   - Make it cinematic but realistic for a national news broadcast.\n",
    "   - Include any transition hint for continuity: {transition_hint}\n",
    "   - Force the audio to follow exaclty the SSML provided.\n",
    "   \n",
    "\n",
    "3. **Output in JSON** with this structure:\n",
    "{{\n",
    "  \"scene_id\": {scene_id},\n",
    "  \"refined_ssml\": \"<speak>...</speak>\",\n",
    "  \"veo_prompt_en\": \"...\"\n",
    "}}\n",
    "\n",
    "Input data:\n",
    "- Original SSML:\n",
    "{ssml}\n",
    "\n",
    "- Original visual description:\n",
    "{visual_desc}\n",
    "    \"\"\"\n",
    "\n",
    "    try:\n",
    "        result = generate_text(refine_prompt, api_key=api_key, model=model, max_tokens=4000)\n",
    "        with open(out_path, \"w\", encoding=\"utf-8\") as f:\n",
    "            f.write(result)\n",
    "        print(f\"✅ Refined prompt saved to {out_path}\")\n",
    "        return result\n",
    "    except AIRequestError as e:\n",
    "        print(f\"❌ API error while refining scene: {e}\")\n",
    "    except Exception as e:\n",
    "        print(f\"❌ Unexpected error: {e}\")\n"
   ]
  },
  {
   "cell_type": "code",
   "execution_count": null,
   "id": "b6ef1c5c",
   "metadata": {},
   "outputs": [
    {
     "name": "stdout",
     "output_type": "stream",
     "text": [
      "✅ Refined prompt saved to refined_prompt.txt\n"
     ]
    }
   ],
   "source": [
    "result = refine_scene(r\"D:\\Study2\\thucchien-video-generation\\outputs\\scripts\\script.json\", scene_id=1)"
   ]
  }
 ],
 "metadata": {
  "kernelspec": {
   "display_name": "sora",
   "language": "python",
   "name": "python3"
  },
  "language_info": {
   "codemirror_mode": {
    "name": "ipython",
    "version": 3
   },
   "file_extension": ".py",
   "mimetype": "text/x-python",
   "name": "python",
   "nbconvert_exporter": "python",
   "pygments_lexer": "ipython3",
   "version": "3.9.18"
  }
 },
 "nbformat": 4,
 "nbformat_minor": 5
}
